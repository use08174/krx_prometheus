{
 "cells": [
  {
   "cell_type": "code",
   "execution_count": 1,
   "metadata": {},
   "outputs": [],
   "source": [
    "from src import pdf_to_markdown_with_ocr\n",
    "from src import read_txt_file\n",
    "from src import split_text_into_chunks\n",
    "from src import FORM_GPT, AMA_GPT, PRO_GPT, HAM_GPT, SOL_GPT, VAL_GPT"
   ]
  },
  {
   "cell_type": "code",
   "execution_count": 2,
   "metadata": {},
   "outputs": [],
   "source": [
    "def GPT_main(target_element):\n",
    "    try:\n",
    "        AMA_response = AMA_GPT(target_element)\n",
    "        PRO_response = PRO_GPT(AMA_response, target_element)\n",
    "        HAM_response = HAM_GPT(target_element, AMA_response, PRO_response)\n",
    "\n",
    "        SOL_response = SOL_GPT(HAM_response[0]['Question'])\n",
    "        VAL_response = VAL_GPT(f\"{SOL_response}\")\n",
    "\n",
    "        valid_list = [True, 'True', False, 'False']\n",
    "\n",
    "        if VAL_response in valid_list:\n",
    "            return HAM_response\n",
    "        else:\n",
    "            return None\n",
    "\n",
    "    except Exception as e:\n",
    "        print('='*50)\n",
    "        print(f\"[에러 발생] | {e} | {target_element}\")\n",
    "        print('='*50)"
   ]
  },
  {
   "cell_type": "markdown",
   "metadata": {},
   "source": [
    "##### ./source_dataset 폴더 내에 있는 pdf 기반 데이터셋 생성"
   ]
  },
  {
   "cell_type": "code",
   "execution_count": 6,
   "metadata": {},
   "outputs": [],
   "source": [
    "import os\n",
    "\n",
    "file_list = [f\"./source_dataset/crawled/{pdf}\" for pdf in os.listdir('./source_dataset/crawled/')]"
   ]
  },
  {
   "cell_type": "code",
   "execution_count": null,
   "metadata": {},
   "outputs": [],
   "source": [
    "final_list = []\n",
    "\n",
    "# file 선택\n",
    "for i in range(len(file_list)):\n",
    "    target_file = file_list[i]\n",
    "    # txt 파일 읽어오기\n",
    "    text = read_txt_file(target_file)\n",
    "    chunk_list = split_text_into_chunks(text)\n",
    "\n",
    "    current_file_QA = []\n",
    "\n",
    "    # file 내 청크 선택\n",
    "    for j in range(len(chunk_list)):\n",
    "        target_chunk = chunk_list[j]\n",
    "        formed_dict = FORM_GPT(target_chunk)\n",
    "\n",
    "        # 청크 기반으로 생성된 마크다운 형식의 문장 선택\n",
    "        idx = 0\n",
    "        for item in formed_dict:\n",
    "            print('='*50)\n",
    "            try:\n",
    "                idx += 1\n",
    "                target_element = formed_dict[item]\n",
    "\n",
    "                # GPT 기반으로 QA쌍 생성\n",
    "                QA_pairs = GPT_main(target_element)\n",
    "\n",
    "                if QA_pairs:\n",
    "                    for QA_pair in QA_pairs:\n",
    "                        current_file_QA.append(QA_pair)\n",
    "                        print(QA_pair)\n",
    "                    print(f\"[성공] ({i+1}/{len(file_list)}번 파일) | ({j+1}/{len(chunk_list)}번 chunk) | ({idx}/{len(formed_dict)}번 element)\")\n",
    "                else:\n",
    "                    print(f\"[실패] ({i+1}/{len(file_list)}번 파일) | ({j+1}/{len(chunk_list)}번 chunk) | ({idx}/{len(formed_dict)}번 element)\")\n",
    "\n",
    "            except Exception as e:\n",
    "                print(f\"[에러] ({i+1}/{len(file_list)}번 파일) | ({j+1}/{len(chunk_list)}번 chunk) | ({idx}/{len(formed_dict)}번 element)\")\n",
    "                print(e)\n",
    "\n",
    "    for QA in current_file_QA:\n",
    "        print('-'*50)\n",
    "        print(QA)\n",
    "        print('-'*50)\n",
    "        final_list.append(QA)"
   ]
  },
  {
   "cell_type": "code",
   "execution_count": null,
   "metadata": {},
   "outputs": [],
   "source": []
  },
  {
   "cell_type": "code",
   "execution_count": null,
   "metadata": {},
   "outputs": [],
   "source": []
  }
 ],
 "metadata": {
  "kernelspec": {
   "display_name": "openai",
   "language": "python",
   "name": "python3"
  },
  "language_info": {
   "codemirror_mode": {
    "name": "ipython",
    "version": 3
   },
   "file_extension": ".py",
   "mimetype": "text/x-python",
   "name": "python",
   "nbconvert_exporter": "python",
   "pygments_lexer": "ipython3",
   "version": "3.10.15"
  },
  "orig_nbformat": 4
 },
 "nbformat": 4,
 "nbformat_minor": 2
}
